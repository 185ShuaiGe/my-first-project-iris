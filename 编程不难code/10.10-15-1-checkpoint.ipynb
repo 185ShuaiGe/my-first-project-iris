{
 "cells": [
  {
   "cell_type": "code",
   "execution_count": 1,
   "id": "cc3e71a2-0098-4fcf-848b-99a0f5969f58",
   "metadata": {},
   "outputs": [
    {
     "ename": "ModuleNotFoundError",
     "evalue": "No module named 'matplotlib.pyplot'",
     "output_type": "error",
     "traceback": [
      "\u001b[1;31m---------------------------------------------------------------------------\u001b[0m",
      "\u001b[1;31mModuleNotFoundError\u001b[0m                       Traceback (most recent call last)",
      "Cell \u001b[1;32mIn[1], line 2\u001b[0m\n\u001b[0;32m      1\u001b[0m \u001b[38;5;28;01mimport\u001b[39;00m \u001b[38;5;21;01mnumpy\u001b[39;00m \u001b[38;5;28;01mas\u001b[39;00m \u001b[38;5;21;01mnp\u001b[39;00m\n\u001b[1;32m----> 2\u001b[0m \u001b[38;5;28;01mimport\u001b[39;00m \u001b[38;5;21;01mmatplotlib\u001b[39;00m\u001b[38;5;21;01m.\u001b[39;00m\u001b[38;5;21;01mpyplot\u001b[39;00m \u001b[38;5;28;01mas\u001b[39;00m \u001b[38;5;21;01mplt\u001b[39;00m\n\u001b[0;32m      4\u001b[0m \u001b[38;5;28;01mdef\u001b[39;00m \u001b[38;5;21mVisualize_fx\u001b[39m (x_array, y_array, title, step \u001b[38;5;241m=\u001b[39m \u001b[38;5;28;01mFalse\u001b[39;00m):\n\u001b[0;32m      5\u001b[0m     fig, ax \u001b[38;5;241m=\u001b[39m plt\u001b[38;5;241m.\u001b[39msubplots(figsize \u001b[38;5;241m=\u001b[39m (\u001b[38;5;241m5\u001b[39m, \u001b[38;5;241m5\u001b[39m))\n",
      "\u001b[1;31mModuleNotFoundError\u001b[0m: No module named 'matplotlib.pyplot'"
     ]
    }
   ],
   "source": [
    "import numpy as np\n",
    "import matplotlib.pyplot as plt\n",
    "\n",
    "def Visualize_fx (x_array, y_array, title, step = False):\n",
    "    fig, ax = plt.subplots(figsize = (5, 5))\n",
    "    ax.plot([-5, 5], [-5, 5], c = 'r', ls = '--', lw = 0.5)\n",
    "\n",
    "    if step:\n",
    "        ax.step(x_array, y_array)\n",
    "    else:\n",
    "        ax.plot(x_array, y_array)\n",
    "\n",
    "    ax.set_xlim(-5, 5)\n",
    "    ax.set_ylim(-5, 5)\n",
    "    ax.axvline(0, c = 'k')\n",
    "    ax.axhline(0, c = 'k')\n",
    "    ax.set_xticks(np.arange(-5, 5 + 1))\n",
    "    ax.set_yticks(np.arange(-5, 5 + 1))\n",
    "    ax.set_xlabel('x')\n",
    "    ax.set_ylabel('f(x)')\n",
    "    plt.grid(True)#显示网格线\n",
    "    fig.savefig(title + '.svg', format = 'svg')\n",
    "    \n",
    "    \n",
    "    \n",
    "x_array = np.linspace(-5, 5, 1001)\n",
    "f_array = np.tan(x_array)\n",
    "f_array[:-1][np.diff(f_array) < 0] = np.nan\n",
    "Visualize_fx(x_array, f_array, '正切函数')"
   ]
  },
  {
   "cell_type": "code",
   "execution_count": 40,
   "id": "0573c437-ebe2-4a0e-997c-e56b5268b59c",
   "metadata": {},
   "outputs": [
    {
     "data": {
      "image/png": "[encoded data removed]",
      "text/plain": [
       "<Figure size 500x500 with 1 Axes>"
      ]
     },
     "metadata": {},
     "output_type": "display_data"
    }
   ],
   "source": [
    "#15的第一题\n",
    "import numpy as np\n",
    "import matplotlib.pyplot as plt\n",
    "\n",
    "def visualize(x_array, y_array):\n",
    "    fig, ax = plt.subplots(figsize = (5, 5))\n",
    "    # ax.plot([-5, 5], [-5, 5], c = 'r', ls = '--', lw = 0.5)\n",
    "    ax.plot(x_array, y_array, c = 'r', ls = '--', lw = 0.5)\n",
    "\n",
    "    ax.set_xlim(-5, 5)\n",
    "    ax.set_ylim(-5, 5)\n",
    "    ax.set_xticks(np.arange(-5, 6))\n",
    "    ax.set_yticks(np.arange(-5, 6))\n",
    "    ax.set_xlabel('x')\n",
    "    ax.set_ylabel('f(x)')\n",
    "    ax.axhline(0, c = 'k')\n",
    "    ax.axvline(0, c = 'k')\n",
    "    plt.grid(True)\n",
    "\n",
    "x_array = np.linspace(-5, 5, 1001)\n",
    "f_array = np.exp((2 - x_array)*(x_array - 2)/2)\n",
    "visualize(x_array, f_array)"
   ]
  },
  {
   "cell_type": "code",
   "execution_count": 3,
   "id": "c5cd2c68-a64a-4ae0-aef3-d235194e1de2",
   "metadata": {},
   "outputs": [
    {
     "ename": "ModuleNotFoundError",
     "evalue": "No module named 'matplotlib.pyplot'",
     "output_type": "error",
     "traceback": [
      "\u001b[1;31m---------------------------------------------------------------------------\u001b[0m",
      "\u001b[1;31mModuleNotFoundError\u001b[0m                       Traceback (most recent call last)",
      "Cell \u001b[1;32mIn[3], line 4\u001b[0m\n\u001b[0;32m      1\u001b[0m \u001b[38;5;66;03m#15的第二题\u001b[39;00m\n\u001b[0;32m      3\u001b[0m \u001b[38;5;28;01mimport\u001b[39;00m \u001b[38;5;21;01mnumpy\u001b[39;00m \u001b[38;5;28;01mas\u001b[39;00m \u001b[38;5;21;01mnp\u001b[39;00m\n\u001b[1;32m----> 4\u001b[0m \u001b[38;5;28;01mimport\u001b[39;00m \u001b[38;5;21;01mmatplotlib\u001b[39;00m\u001b[38;5;21;01m.\u001b[39;00m\u001b[38;5;21;01mpyplot\u001b[39;00m \u001b[38;5;28;01mas\u001b[39;00m \u001b[38;5;21;01mplt\u001b[39;00m\n\u001b[0;32m      6\u001b[0m \u001b[38;5;28;01mdef\u001b[39;00m \u001b[38;5;21mvisualize_3d\u001b[39m(xx1_array, xx2_array, ff_array):\n\u001b[0;32m      7\u001b[0m     fig \u001b[38;5;241m=\u001b[39m plt\u001b[38;5;241m.\u001b[39mfigure()\n",
      "\u001b[1;31mModuleNotFoundError\u001b[0m: No module named 'matplotlib.pyplot'"
     ]
    }
   ],
   "source": [
    "#15的第二题\n",
    "\n",
    "import numpy as np\n",
    "import matplotlib.pyplot as plt\n",
    "\n",
    "def visualize_3d(xx1_array, xx2_array, ff_array):\n",
    "    fig = plt.figure()\n",
    "    ax = fig.add_subplot(111, projection = '3d')\n",
    "\n",
    "    ax.plot_surface(xx1_array, xx2_array, ff_array, cmap = 'RdYlBu_r')\n",
    "\n",
    "    ax.set_xlim(-3, 3)\n",
    "    ax.set_ylim(-3, 3)\n",
    "    ax.set_zlim(0, 1)\n",
    "    ax.set_xticks(np.arange(-3, 4))\n",
    "    ax.set_yticks(np.arange(-3, 4))\n",
    "    ax.set_zticks(np.arange(0, 1.2, 0.2))\n",
    "    ax.set_xlabel('x')\n",
    "    ax.set_ylabel('y')\n",
    "    ax.set_zlabel('z')\n",
    "\n",
    "\n",
    "%matplotlib notebook\n",
    "x1_array = np.linspace(-3, 3, 601)\n",
    "x2_array = np.linspace(-3, 3, 601)\n",
    "xx1_array, xx2_array = np.meshgrid(x1_array, x2_array)\n",
    "ff_array = np.exp(-xx1_array**2 - xx2_array**2)\n",
    "\n",
    "visualize_3d(xx1_array, xx2_array, ff_array)"
   ]
  },
  {
   "cell_type": "code",
   "execution_count": null,
   "id": "0fb2546c-1706-47c5-b419-c8b760c4d6da",
   "metadata": {},
   "outputs": [],
   "source": []
  }
 ],
 "metadata": {
  "kernelspec": {
   "display_name": "Python 3 (ipykernel)",
   "language": "python",
   "name": "python3"
  },
  "language_info": {
   "codemirror_mode": {
    "name": "ipython",
    "version": 3
   },
   "file_extension": ".py",
   "mimetype": "text/x-python",
   "name": "python",
   "nbconvert_exporter": "python",
   "pygments_lexer": "ipython3",
   "version": "3.12.4"
  }
 },
 "nbformat": 4,
 "nbformat_minor": 5
}
